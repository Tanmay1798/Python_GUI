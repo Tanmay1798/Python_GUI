{
 "cells": [
  {
   "cell_type": "code",
   "execution_count": 1,
   "id": "a0c684e2",
   "metadata": {},
   "outputs": [],
   "source": [
    "from tkinter import *"
   ]
  },
  {
   "cell_type": "code",
   "execution_count": null,
   "id": "85c88764",
   "metadata": {},
   "outputs": [
    {
     "name": "stdout",
     "output_type": "stream",
     "text": [
      "Hello , Kas Kay Programmer\n",
      "Hello , Kas Kay Programmer\n",
      "Hello , Kas Kay Programmer\n"
     ]
    }
   ],
   "source": [
    "root = Tk()\n",
    "root.title(\"Buttons\")\n",
    "root.geometry(\"900x700\")\n",
    "root.minsize(200,200)\n",
    "root.maxsize(1100,700)\n",
    "\n",
    "def hello():\n",
    "    print(\"Hello , Kas Kay Programmer\")\n",
    "\n",
    "f1 = Frame(root , bg=\"red\" , borderwidth = 7 , relief=GROOVE) \n",
    "f1.pack(side=LEFT , fill=\"x\")\n",
    "\n",
    "b1 = Button(f1, fg=\"grey\" , text=\"Print Now\" , command = hello)\n",
    "b1.pack(side=LEFT , padx =30)\n",
    "\n",
    "root.mainloop()"
   ]
  },
  {
   "cell_type": "code",
   "execution_count": null,
   "id": "60d8db03",
   "metadata": {},
   "outputs": [],
   "source": []
  }
 ],
 "metadata": {
  "kernelspec": {
   "display_name": "Python 3 (ipykernel)",
   "language": "python",
   "name": "python3"
  },
  "language_info": {
   "codemirror_mode": {
    "name": "ipython",
    "version": 3
   },
   "file_extension": ".py",
   "mimetype": "text/x-python",
   "name": "python",
   "nbconvert_exporter": "python",
   "pygments_lexer": "ipython3",
   "version": "3.9.7"
  }
 },
 "nbformat": 4,
 "nbformat_minor": 5
}
