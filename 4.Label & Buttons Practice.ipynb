{
 "cells": [
  {
   "cell_type": "code",
   "execution_count": 1,
   "id": "86df57dd",
   "metadata": {},
   "outputs": [],
   "source": [
    "from tkinter import *"
   ]
  },
  {
   "cell_type": "code",
   "execution_count": 29,
   "id": "b6b15e61",
   "metadata": {},
   "outputs": [],
   "source": [
    "root = Tk()\n",
    "root.geometry(\"900x700\")\n",
    "root.minsize(200,200)\n",
    "root.maxsize(1100,700)\n",
    "\n",
    "def t():\n",
    "    print(\"Tanmay Busy ahe call Dattu\")\n",
    "    \n",
    "def b():\n",
    "    print(\"Sorry Guys Me banglore la ahe Atul sirana msg kara\")\n",
    "\n",
    "def r():\n",
    "    print(\"Please Text Sanvee Mam , I am in meeting.\")\n",
    "\n",
    "def l():\n",
    "    print(\"Barr Sunday la 10 te 2 Lec ahe Python ch Teva ya.\")\n",
    "\n",
    "f1 = Frame(root , bg=\"red\" , borderwidth = 7 , relief=GROOVE) \n",
    "f1.pack(side=TOP )\n",
    "b1 = Button(f1, fg=\"navyblue\" , text=\"Tanmay\" , command = t)\n",
    "b1.pack(side=TOP , padx =30)\n",
    "\n",
    "\n",
    "f2 = Frame(root , bg=\"Gold\" , borderwidth = 8 , relief=GROOVE) \n",
    "f2.pack(side=BOTTOM )\n",
    "b2 = Button(f2, fg=\"black\" , text=\"Dattu\" , command = b)\n",
    "b2.pack(side=BOTTOM , padx =30)\n",
    "\n",
    "\n",
    "f3 = Frame(root , bg=\"green\" , borderwidth = 9 , relief=RIDGE) \n",
    "f3.pack(side=LEFT)\n",
    "b3 = Button(f3, fg=\"blue\" , text=\"Atul ji\" , command = r)\n",
    "b3.pack(side=LEFT, padx =30)\n",
    "\n",
    "\n",
    "f4 = Frame(root , bg=\"grey\" , borderwidth = 10 , relief=SUNKEN) \n",
    "f4.pack(side= RIGHT)\n",
    "b4 = Button(f4, fg=\"Black\" , text=\"Sanvee Mam\" , command = l)\n",
    "b4.pack(side=RIGHT , padx =30)\n",
    "\n",
    "\n",
    "root.mainloop()"
   ]
  },
  {
   "cell_type": "code",
   "execution_count": null,
   "id": "6192a032",
   "metadata": {},
   "outputs": [],
   "source": []
  }
 ],
 "metadata": {
  "kernelspec": {
   "display_name": "Python 3 (ipykernel)",
   "language": "python",
   "name": "python3"
  },
  "language_info": {
   "codemirror_mode": {
    "name": "ipython",
    "version": 3
   },
   "file_extension": ".py",
   "mimetype": "text/x-python",
   "name": "python",
   "nbconvert_exporter": "python",
   "pygments_lexer": "ipython3",
   "version": "3.9.7"
  }
 },
 "nbformat": 4,
 "nbformat_minor": 5
}
